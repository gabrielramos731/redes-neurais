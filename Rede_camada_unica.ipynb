{
 "cells": [
  {
   "cell_type": "code",
   "execution_count": 126,
   "metadata": {},
   "outputs": [],
   "source": [
    "import numpy as np\n",
    "import matplotlib.pyplot as plt\n",
    "import pandas as pd\n",
    "from keras.datasets import mnist"
   ]
  },
  {
   "cell_type": "code",
   "execution_count": 127,
   "metadata": {},
   "outputs": [],
   "source": [
    "def mse(y, y_pred):\n",
    "    return ((y-y_pred.T)**2)/2\n",
    "\n",
    "def mse_derivada(y, y_pred):\n",
    "    return np.reshape(y, (y_pred.shape)) - y_pred\n",
    "\n",
    "def sigmoide(x):\n",
    "    return 1./(1. + np.exp(-x))\n",
    "\n",
    "def sigmoide_derivada(x):\n",
    "    y = sigmoide(x)\n",
    "    return y*(1-y)"
   ]
  },
  {
   "cell_type": "code",
   "execution_count": 219,
   "metadata": {},
   "outputs": [],
   "source": [
    "class Rede:\n",
    "    # Inicialização da rede\n",
    "    def __init__(self, eta=0.1, epochs=50):\n",
    "        self.eta = eta\n",
    "        self.epochs = epochs\n",
    "        self.errors = []\n",
    "\n",
    "    # TODO alterar passagem de y para dummy; log de erros\n",
    "    def fit(self, X, y):\n",
    "        m = np.unique(y).size  # qtd. saidas\n",
    "        n = X.shape[1]  # qtd. entradas\n",
    "        self.W = np.random.uniform(0, 1, size = (m, n))  # Inicialização da matriz de pesos\n",
    "        self.B = np.random.uniform(0, 1, size = (m,1))\n",
    "        y_dummy = np.eye(m)[y]  # cria dummy de y \n",
    "\n",
    "        for ep in range(self.epochs):\n",
    "            erro_saida = []\n",
    "            for i, x_i in enumerate(X):\n",
    "                net = np.dot(self.W, np.reshape(x_i, (n,1))) + self.B  # saida da rede\n",
    "                y_pred = sigmoide(net)  # predito pela função de ativação\n",
    "                delta = mse_derivada(y_dummy[i], y_pred) * sigmoide_derivada(net)  # sigmoide sempre 0 para classificação de imagens\n",
    "                erro_saida.append(mse(y_dummy[i], y_pred).T)\n",
    "\n",
    "                # Atualização dos pesos\n",
    "                self.W += self.eta * -delta * -x_i\n",
    "                self.B += self.eta * -delta\n",
    "                \n",
    "            self.errors.append(np.mean(erro_saida))\n",
    "            print(f\"Época: {ep+1} | Erro médio: {np.mean(self.errors):.3f}\")\n",
    "\n",
    "    # Predict pela função de ativação sigmoide\n",
    "    def predict(self, X):\n",
    "        return sigmoide(np.dot(self.W, X.T) + self.B)\n",
    "    \n",
    "    def predict_class(self, X):\n",
    "        return np.argmax(self.predict(X), axis=0)\n",
    "\n",
    "    def compare(self, y, y_pred):\n",
    "        return np.sum(y == y_pred) / y.size\n",
    "\n",
    "    def plot_errors(self):\n",
    "        \"\"\"\n",
    "        Plots the mean squared error over epochs.\n",
    "\n",
    "        This method plots the mean squared error over the epochs of the neural network training.\n",
    "\n",
    "        Parameters:\n",
    "        None\n",
    "\n",
    "        Returns:\n",
    "        None\n",
    "        \"\"\"\n",
    "        plt.plot(range(self.epochs), self.errors, '.-')\n",
    "        plt.title(\"Erro médio quadrático\")\n",
    "        plt.xlabel(\"Época\")\n",
    "        plt.ylabel(\"Erro\")\n",
    "        plt.show()"
   ]
  },
  {
   "cell_type": "code",
   "execution_count": 220,
   "metadata": {},
   "outputs": [],
   "source": [
    "from sklearn.preprocessing import MinMaxScaler\n",
    "\n",
    "train7x7 = np.load(\"data/train7x7.npy\")\n",
    "test7x7 = np.load(\"data/test7x7.npy\")\n",
    "\n",
    "(_, train_labels7x7), (_, test_labels7x7) = mnist.load_data()\n",
    "\n",
    "train_images7x7 = np.array([img.flatten() for img in train7x7])\n",
    "test_images7x7 = np.array([img.flatten() for img in test7x7])\n",
    "\n",
    "scaler = MinMaxScaler()\n",
    "train_images7x7 = scaler.fit_transform(train_images7x7.reshape(train_images7x7.shape[0], -1))\n",
    "test_images7x7 = scaler.fit_transform(test_images7x7.reshape(test_images7x7.shape[0], -1))"
   ]
  },
  {
   "cell_type": "code",
   "execution_count": 221,
   "metadata": {},
   "outputs": [
    {
     "name": "stdout",
     "output_type": "stream",
     "text": [
      "Época: 1 | Erro médio: 0.146\n",
      "Época: 2 | Erro médio: 0.121\n",
      "Época: 3 | Erro médio: 0.113\n",
      "Época: 4 | Erro médio: 0.109\n",
      "Época: 5 | Erro médio: 0.107\n",
      "Época: 6 | Erro médio: 0.106\n",
      "Época: 7 | Erro médio: 0.105\n",
      "Época: 8 | Erro médio: 0.104\n",
      "Época: 9 | Erro médio: 0.103\n",
      "Época: 10 | Erro médio: 0.103\n",
      "Época: 11 | Erro médio: 0.103\n",
      "Época: 12 | Erro médio: 0.102\n",
      "Época: 13 | Erro médio: 0.102\n",
      "Época: 14 | Erro médio: 0.102\n",
      "Época: 15 | Erro médio: 0.102\n",
      "Época: 16 | Erro médio: 0.102\n",
      "Época: 17 | Erro médio: 0.101\n",
      "Época: 18 | Erro médio: 0.101\n",
      "Época: 19 | Erro médio: 0.101\n",
      "Época: 20 | Erro médio: 0.101\n"
     ]
    }
   ],
   "source": [
    "rede3 = Rede(eta=0.03, epochs=20)\n",
    "rede3.fit(train_images7x7[:15000], train_labels7x7[:15000])"
   ]
  },
  {
   "cell_type": "code",
   "execution_count": 222,
   "metadata": {},
   "outputs": [
    {
     "name": "stdout",
     "output_type": "stream",
     "text": [
      "0.4266\n"
     ]
    }
   ],
   "source": [
    "y_pred_class = rede3.predict_class(test_images7x7)\n",
    "acc = rede3.compare(test_labels7x7, y_pred_class)\n",
    "print(acc)"
   ]
  },
  {
   "cell_type": "code",
   "execution_count": 223,
   "metadata": {},
   "outputs": [
    {
     "data": {
      "image/png": "[encoded data removed]",
      "text/plain": [
       "<Figure size 640x480 with 1 Axes>"
      ]
     },
     "metadata": {},
     "output_type": "display_data"
    }
   ],
   "source": [
    "rede3.plot_errors()"
   ]
  },
  {
   "cell_type": "markdown",
   "metadata": {},
   "source": [
    "---"
   ]
  },
  {
   "cell_type": "code",
   "execution_count": 205,
   "metadata": {},
   "outputs": [],
   "source": [
    "X = pd.read_csv('https://archive.ics.uci.edu/ml/machine-learning-databases/iris/iris.data', header=None)\n",
    "X = X.rename({4:\"classe\"}, axis=1)\n",
    "X[\"classe\"] = X[\"classe\"].map({\"Iris-setosa\":0, \"Iris-versicolor\":1, \"Iris-virginica\":2})\n",
    "y = X.pop(\"classe\")"
   ]
  },
  {
   "cell_type": "code",
   "execution_count": 206,
   "metadata": {},
   "outputs": [],
   "source": [
    "X = np.array(X)\n",
    "y = np.array(y)\n",
    "\n",
    "X_train, X_test, y_train, y_test = train_test_split(X, y, test_size=0.2, random_state=42)"
   ]
  },
  {
   "cell_type": "code",
   "execution_count": 207,
   "metadata": {},
   "outputs": [
    {
     "name": "stdout",
     "output_type": "stream",
     "text": [
      "Época: 1 | Erro médio: 0.285\n",
      "Época: 2 | Erro médio: 0.273\n",
      "Época: 3 | Erro médio: 0.269\n",
      "Época: 4 | Erro médio: 0.267\n",
      "Época: 5 | Erro médio: 0.265\n",
      "Época: 6 | Erro médio: 0.264\n",
      "Época: 7 | Erro médio: 0.264\n",
      "Época: 8 | Erro médio: 0.263\n",
      "Época: 9 | Erro médio: 0.263\n",
      "Época: 10 | Erro médio: 0.262\n",
      "Época: 11 | Erro médio: 0.262\n",
      "Época: 12 | Erro médio: 0.262\n",
      "Época: 13 | Erro médio: 0.262\n",
      "Época: 14 | Erro médio: 0.261\n",
      "Época: 15 | Erro médio: 0.261\n",
      "Época: 16 | Erro médio: 0.261\n",
      "Época: 17 | Erro médio: 0.261\n",
      "Época: 18 | Erro médio: 0.260\n",
      "Época: 19 | Erro médio: 0.258\n",
      "Época: 20 | Erro médio: 0.254\n",
      "Época: 21 | Erro médio: 0.250\n",
      "Época: 22 | Erro médio: 0.246\n",
      "Época: 23 | Erro médio: 0.243\n",
      "Época: 24 | Erro médio: 0.239\n",
      "Época: 25 | Erro médio: 0.236\n",
      "Época: 26 | Erro médio: 0.234\n",
      "Época: 27 | Erro médio: 0.231\n",
      "Época: 28 | Erro médio: 0.229\n",
      "Época: 29 | Erro médio: 0.226\n",
      "Época: 30 | Erro médio: 0.224\n",
      "Época: 31 | Erro médio: 0.222\n",
      "Época: 32 | Erro médio: 0.220\n",
      "Época: 33 | Erro médio: 0.219\n",
      "Época: 34 | Erro médio: 0.217\n",
      "Época: 35 | Erro médio: 0.215\n",
      "Época: 36 | Erro médio: 0.214\n",
      "Época: 37 | Erro médio: 0.212\n",
      "Época: 38 | Erro médio: 0.211\n",
      "Época: 39 | Erro médio: 0.210\n",
      "Época: 40 | Erro médio: 0.208\n",
      "Época: 41 | Erro médio: 0.207\n",
      "Época: 42 | Erro médio: 0.206\n",
      "Época: 43 | Erro médio: 0.205\n",
      "Época: 44 | Erro médio: 0.204\n",
      "Época: 45 | Erro médio: 0.203\n",
      "Época: 46 | Erro médio: 0.202\n",
      "Época: 47 | Erro médio: 0.201\n",
      "Época: 48 | Erro médio: 0.200\n",
      "Época: 49 | Erro médio: 0.199\n",
      "Época: 50 | Erro médio: 0.198\n",
      "Época: 51 | Erro médio: 0.198\n",
      "Época: 52 | Erro médio: 0.197\n",
      "Época: 53 | Erro médio: 0.196\n",
      "Época: 54 | Erro médio: 0.195\n",
      "Época: 55 | Erro médio: 0.195\n",
      "Época: 56 | Erro médio: 0.194\n",
      "Época: 57 | Erro médio: 0.193\n",
      "Época: 58 | Erro médio: 0.193\n",
      "Época: 59 | Erro médio: 0.192\n",
      "Época: 60 | Erro médio: 0.192\n",
      "Época: 61 | Erro médio: 0.191\n",
      "Época: 62 | Erro médio: 0.190\n",
      "Época: 63 | Erro médio: 0.190\n",
      "Época: 64 | Erro médio: 0.189\n",
      "Época: 65 | Erro médio: 0.189\n",
      "Época: 66 | Erro médio: 0.188\n",
      "Época: 67 | Erro médio: 0.188\n",
      "Época: 68 | Erro médio: 0.187\n",
      "Época: 69 | Erro médio: 0.187\n",
      "Época: 70 | Erro médio: 0.186\n",
      "Época: 71 | Erro médio: 0.186\n",
      "Época: 72 | Erro médio: 0.185\n",
      "Época: 73 | Erro médio: 0.185\n",
      "Época: 74 | Erro médio: 0.185\n",
      "Época: 75 | Erro médio: 0.184\n",
      "Época: 76 | Erro médio: 0.184\n",
      "Época: 77 | Erro médio: 0.183\n",
      "Época: 78 | Erro médio: 0.183\n",
      "Época: 79 | Erro médio: 0.183\n",
      "Época: 80 | Erro médio: 0.182\n",
      "Época: 81 | Erro médio: 0.182\n",
      "Época: 82 | Erro médio: 0.182\n",
      "Época: 83 | Erro médio: 0.181\n",
      "Época: 84 | Erro médio: 0.181\n",
      "Época: 85 | Erro médio: 0.181\n",
      "Época: 86 | Erro médio: 0.180\n",
      "Época: 87 | Erro médio: 0.180\n",
      "Época: 88 | Erro médio: 0.180\n",
      "Época: 89 | Erro médio: 0.179\n",
      "Época: 90 | Erro médio: 0.179\n",
      "Época: 91 | Erro médio: 0.179\n",
      "Época: 92 | Erro médio: 0.179\n",
      "Época: 93 | Erro médio: 0.178\n",
      "Época: 94 | Erro médio: 0.178\n",
      "Época: 95 | Erro médio: 0.178\n",
      "Época: 96 | Erro médio: 0.177\n",
      "Época: 97 | Erro médio: 0.177\n",
      "Época: 98 | Erro médio: 0.177\n",
      "Época: 99 | Erro médio: 0.177\n",
      "Época: 100 | Erro médio: 0.176\n"
     ]
    }
   ],
   "source": [
    "rede = Rede(0.02, 100)\n",
    "rede.fit(X_train, y_train)\n",
    "pred = rede.predict(X_test)"
   ]
  },
  {
   "cell_type": "code",
   "execution_count": 209,
   "metadata": {},
   "outputs": [
    {
     "data": {
      "image/png": "[encoded data removed]",
      "text/plain": [
       "<Figure size 640x480 with 1 Axes>"
      ]
     },
     "metadata": {},
     "output_type": "display_data"
    }
   ],
   "source": [
    "rede.plot_errors()"
   ]
  }
 ],
 "metadata": {
  "kernelspec": {
   "display_name": "base",
   "language": "python",
   "name": "python3"
  },
  "language_info": {
   "codemirror_mode": {
    "name": "ipython",
    "version": 3
   },
   "file_extension": ".py",
   "mimetype": "text/x-python",
   "name": "python",
   "nbconvert_exporter": "python",
   "pygments_lexer": "ipython3",
   "version": "3.11.5"
  }
 },
 "nbformat": 4,
 "nbformat_minor": 2
}
